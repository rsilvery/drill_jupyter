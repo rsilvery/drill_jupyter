{
 "cells": [
  {
   "cell_type": "markdown",
   "metadata": {},
   "source": [
    "Create ODBC connection to Drill. ODBC Driver can be downloaded here: http://drill.apache.org/docs/installing-the-odbc-driver/\n",
    "\n",
    "Query a JSON File"
   ]
  },
  {
   "cell_type": "code",
   "execution_count": 11,
   "metadata": {
    "collapsed": false
   },
   "outputs": [
    {
     "name": "stdout",
     "output_type": "stream",
     "text": [
      "[(1L, 'Sheri Nowmer', 'Sheri', 'Nowmer', 1L, 'President', 0L, 1L, '1961-08-26', '1994-12-01 00:00:00.0', 80000.0, 0L, 'Graduate Degree', 'S', 'F', 'Senior Management'), (2L, 'Derrick Whelply', 'Derrick', 'Whelply', 2L, 'VP Country Manager', 0L, 1L, '1915-07-03', '1994-12-01 00:00:00.0', 40000.0, 1L, 'Graduate Degree', 'M', 'M', 'Senior Management'), (4L, 'Michael Spence', 'Michael', 'Spence', 2L, 'VP Country Manager', 0L, 1L, '1969-06-20', '1998-01-01 00:00:00.0', 40000.0, 1L, 'Graduate Degree', 'S', 'M', 'Senior Management'), (5L, 'Maya Gutierrez', 'Maya', 'Gutierrez', 2L, 'VP Country Manager', 0L, 1L, '1951-05-10', '1998-01-01 00:00:00.0', 35000.0, 1L, 'Bachelors Degree', 'M', 'F', 'Senior Management'), (6L, 'Roberta Damstra', 'Roberta', 'Damstra', 3L, 'VP Information Systems', 0L, 2L, '1942-10-08', '1994-12-01 00:00:00.0', 25000.0, 1L, 'Bachelors Degree', 'M', 'F', 'Senior Management'), (7L, 'Rebecca Kanagaki', 'Rebecca', 'Kanagaki', 4L, 'VP Human Resources', 0L, 3L, '1949-03-27', '1994-12-01 00:00:00.0', 15000.0, 1L, 'Bachelors Degree', 'M', 'F', 'Senior Management'), (8L, 'Kim Brunner', 'Kim', 'Brunner', 11L, 'Store Manager', 9L, 11L, '1922-08-10', '1998-01-01 00:00:00.0', 10000.0, 5L, 'Bachelors Degree', 'S', 'F', 'Store Management'), (9L, 'Brenda Blumberg', 'Brenda', 'Blumberg', 11L, 'Store Manager', 21L, 11L, '1979-06-23', '1998-01-01 00:00:00.0', 17000.0, 5L, 'Graduate Degree', 'M', 'F', 'Store Management'), (10L, 'Darren Stanz', 'Darren', 'Stanz', 5L, 'VP Finance', 0L, 5L, '1949-08-26', '1994-12-01 00:00:00.0', 50000.0, 1L, 'Partial College', 'M', 'M', 'Senior Management'), (11L, 'Jonathan Murraiin', 'Jonathan', 'Murraiin', 11L, 'Store Manager', 1L, 11L, '1967-06-20', '1998-01-01 00:00:00.0', 15000.0, 5L, 'Graduate Degree', 'S', 'M', 'Store Management')]\n"
     ]
    }
   ],
   "source": [
    "import pyodbc\n",
    "cnxn = pyodbc.connect(\"DSN=drill64\", autocommit=True)\n",
    "cursor = cnxn.cursor()\n",
    "cursor.execute(\"SELECT * FROM cp.`employee.json` LIMIT 10\")\n",
    "response = cursor.fetchall()\n",
    "if response:\n",
    "    print(response)"
   ]
  }
 ],
 "metadata": {
  "kernelspec": {
   "display_name": "Python 2",
   "language": "python",
   "name": "python2"
  },
  "language_info": {
   "codemirror_mode": {
    "name": "ipython",
    "version": 2
   },
   "file_extension": ".py",
   "mimetype": "text/x-python",
   "name": "python",
   "nbconvert_exporter": "python",
   "pygments_lexer": "ipython2",
   "version": "2.7.12"
  }
 },
 "nbformat": 4,
 "nbformat_minor": 1
}
